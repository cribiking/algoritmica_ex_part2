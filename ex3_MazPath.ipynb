{
 "cells": [
  {
   "cell_type": "markdown",
   "id": "9effbff0",
   "metadata": {},
   "source": [
    "## Exercici 3\n",
    "\n",
    "- **Apartat 1 :** Design an algorithm that returns the sequence of steps to go from the cell\n",
    "(1, 1) to the cell (n, n). "
   ]
  },
  {
   "cell_type": "code",
   "execution_count": 7,
   "id": "607ad066",
   "metadata": {},
   "outputs": [
    {
     "name": "stdout",
     "output_type": "stream",
     "text": [
      "[(1, 1), (2, 1), (2, 2), (2, 3), (3, 3)]\n",
      "Greedy fail:\n",
      "[(1, 1), (1, 2), (2, 2)]\n"
     ]
    }
   ],
   "source": [
    "#Greedy aproach: \n",
    "#   - The sequence of moves is gonna be: Right-then-Down\n",
    "#   - Limitations: This method can fail if a path exists but the right-first approach blocks it.\n",
    "def main():\n",
    "    \n",
    "    def greedyMazePath(M):\n",
    "\n",
    "        n = len(M)\n",
    "        path = []\n",
    "        i , j = 0, 0\n",
    "        \n",
    "        while j < n and i < n:\n",
    "\n",
    "            #Save position to the path\n",
    "            path.append((i+1,j+1))\n",
    "\n",
    "            #Reach the end of matrix\n",
    "            if j == n-1 and i == n-1:\n",
    "                return path\n",
    "            \n",
    "            #Start following greedy aproach\n",
    "            #Lets try ritgh\n",
    "            if j + 1 < n and M[i][j+1] == 1: #If we still in the matrix and its allowed\n",
    "                j += 1\n",
    "            #What happends if right is blocked? we try to go down\n",
    "            elif i < n and M[i+1][j] == 1:\n",
    "                i+=1\n",
    "            else:\n",
    "                print(\"Greedy fail:\")\n",
    "                return path #Greedy fail\n",
    "        \n",
    "\n",
    "    M_correct = [\n",
    "  [1, 0, 1],\n",
    "  [1, 1, 1],\n",
    "  [0, 1, 1]\n",
    "    ]   \n",
    "\n",
    "\n",
    "    M_incorrect = [\n",
    "  [1, 1, 0, 1],\n",
    "  [1, 1, 0, 1],\n",
    "  [1, 0, 1, 1],\n",
    "  [1, 1, 1, 1]\n",
    "    ]   \n",
    "\n",
    "    print(greedyMazePath(M_correct))\n",
    "    print(greedyMazePath(M_incorrect))\n",
    "\n",
    "if __name__==\"__main__\":\n",
    "    main()"
   ]
  },
  {
   "cell_type": "markdown",
   "id": "a120e130",
   "metadata": {},
   "source": [
    "- **Apartat 2 :** Modify your algorithm to return the minimum sequence of steps to go\n",
    "from the cell (1, 1) to the cell (n, n). "
   ]
  },
  {
   "cell_type": "code",
   "execution_count": null,
   "id": "f5cfe4e5",
   "metadata": {},
   "outputs": [],
   "source": [
    "#Now we select to aply Backtraking algorithms, however we notice that does not return the minimum path, and sometimes can \n",
    "# be ineficient. O(2^n) , need to apply dynamic programming\n",
    "#To find the dhortest path there exist algorithms to do it, as is Breadth-Fisrt Search (BFS)\n",
    "\n",
    "\n",
    "def main():\n",
    "    \n",
    "    def greedyMazePath(M):\n",
    "\n",
    "        n = len(M)\n",
    "        path = []\n",
    "        i , j = 0, 0\n",
    "        \n",
    "        while j < n and i < n:\n",
    "\n",
    "           \n",
    "\n",
    "\n",
    "\n",
    "        \n",
    "            ##################################################\n",
    "\n",
    "    M_correct = [\n",
    "  [1, 1, 1],\n",
    "  [0, 0, 1],\n",
    "  [0, 0, 1]\n",
    "    ]   \n",
    "\n",
    "\n",
    "    M_incorrect = [\n",
    "  [1, 1, 0],\n",
    "  [0, 0, 1],\n",
    "  [0, 0, 1]\n",
    "    ]   \n",
    "\n",
    "    print(greedyMazePath(M_correct))\n",
    "    print(greedyMazePath(M_incorrect))\n",
    "\n",
    "if __name__==\"__main__\":\n",
    "    main()"
   ]
  }
 ],
 "metadata": {
  "kernelspec": {
   "display_name": "Python 3",
   "language": "python",
   "name": "python3"
  },
  "language_info": {
   "codemirror_mode": {
    "name": "ipython",
    "version": 3
   },
   "file_extension": ".py",
   "mimetype": "text/x-python",
   "name": "python",
   "nbconvert_exporter": "python",
   "pygments_lexer": "ipython3",
   "version": "3.13.3"
  }
 },
 "nbformat": 4,
 "nbformat_minor": 5
}
